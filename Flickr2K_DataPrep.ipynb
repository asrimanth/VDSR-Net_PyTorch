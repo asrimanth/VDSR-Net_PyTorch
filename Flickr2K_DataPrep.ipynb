{
 "cells": [
  {
   "cell_type": "code",
   "execution_count": 1,
   "id": "3e682bc6-a541-4e8e-9ec3-2087a8534e23",
   "metadata": {},
   "outputs": [],
   "source": [
    "import numpy as np\n",
    "import pandas as pd\n",
    "from PIL import Image\n",
    "import matplotlib.pyplot as plt\n",
    "from tqdm import tqdm\n",
    "import os\n",
    "from pathlib import Path"
   ]
  },
  {
   "cell_type": "code",
   "execution_count": 2,
   "id": "b849352b-5156-4016-b721-a8fb7f0bbd9c",
   "metadata": {},
   "outputs": [],
   "source": [
    "def create_folder_hierarchy(dest_path=\"./\"):\n",
    "    Path(dest_path + \"/Flickr2K_Downsampled/HR\").mkdir(parents=True, exist_ok=True)\n",
    "    Path(dest_path + \"/Flickr2K_Downsampled/LR\").mkdir(parents=True, exist_ok=True)"
   ]
  },
  {
   "cell_type": "code",
   "execution_count": 3,
   "id": "e436191d-5b0d-47c4-86b0-c20ab2f6f398",
   "metadata": {},
   "outputs": [],
   "source": [
    "create_folder_hierarchy()"
   ]
  },
  {
   "cell_type": "code",
   "execution_count": 4,
   "id": "d4490e1c-4880-4a5a-91d6-26c7d05f9414",
   "metadata": {},
   "outputs": [],
   "source": [
    "def create_downsampled_images(source_path=\"./Flickr2K/Flickr2K_HR/\", \n",
    "                              dest_path=\"./Flickr2K_Downsampled/\", \n",
    "                              out_filename=\"flickr2k.csv\"):\n",
    "    file_list= [source_path + file for file in os.listdir(source_path) if file.endswith('.png')]\n",
    "    \n",
    "    col_names = [\"LR_filename\", \"LR_filepath\", \"LR_dimensions\",\n",
    "                 \"HR_filename\", \"HR_filepath\", \"HR_dimensions\", \n",
    "                 \"downsample_method\"]\n",
    "    data = {col:[] for col in col_names}\n",
    "    N = len(file_list)\n",
    "    for i, image_path in enumerate(tqdm(file_list)):\n",
    "        image = Image.open(image_path)\n",
    "        image_name = image_path.split(\"/\")[-1]\n",
    "        width, height = image.size\n",
    "        \n",
    "        # https://pillow.readthedocs.io/en/stable/handbook/concepts.html#concept-filters\n",
    "        resize_method = Image.NEAREST\n",
    "        resize_method_str = \"NEAREST\"\n",
    "        if i in range((5*N//6), N):\n",
    "            resize_method = Image.BOX\n",
    "            resize_method_str = \"BOX\"\n",
    "        if i in range((4*N//6), (5*N//6)):\n",
    "            resize_method = Image.BILINEAR\n",
    "            resize_method_str = \"BILINEAR\"\n",
    "        if i in range((3*N//6), (4*N//6)):\n",
    "            resize_method = Image.HAMMING\n",
    "            resize_method_str = \"HAMMING\"\n",
    "        if i in range((2*N//6), (3*N//6)):\n",
    "            resize_method = Image.BICUBIC\n",
    "            resize_method_str = \"BICUBIC\"\n",
    "        if i in range((N//6), (2*N//6)):\n",
    "            resize_method = Image.LANCZOS\n",
    "            resize_method_str = \"LANCZOS\"\n",
    "        \n",
    "        hr_downsampled = image.resize((width//2, height//2), resample=resize_method)\n",
    "        lr_downsampled = image.resize((width//4, height//4), resample=resize_method)\n",
    "        \n",
    "        hr_downsampled.save(dest_path + \"HR/\" + image_name)\n",
    "        lr_downsampled.save(dest_path + \"LR/train_\" + image_name)\n",
    "        \n",
    "        hr_downsampled.close()\n",
    "        lr_downsampled.close()\n",
    "        \n",
    "        data[\"LR_filename\"].append(\"train_\" + image_name)\n",
    "        data[\"LR_filepath\"].append(dest_path + \"LR/train_\" + image_name)\n",
    "        data[\"LR_dimensions\"].append(f\"{width//4}x{height//4}\")\n",
    "        data[\"HR_filename\"].append(image_name)\n",
    "        data[\"HR_filepath\"].append(dest_path+ \"HR/\" + image_name)\n",
    "        data[\"HR_dimensions\"].append(f\"{width//2}x{height//2}\")\n",
    "        data[\"downsample_method\"].append(resize_method_str)\n",
    "        \n",
    "    data = pd.DataFrame(data)\n",
    "    data.to_csv(out_filename)"
   ]
  },
  {
   "cell_type": "code",
   "execution_count": 5,
   "id": "4c84de93-ca38-42fd-be2e-04833aa93939",
   "metadata": {},
   "outputs": [
    {
     "name": "stderr",
     "output_type": "stream",
     "text": [
      "100%|██████████| 2650/2650 [33:50<00:00,  1.31it/s]\n"
     ]
    }
   ],
   "source": [
    "create_downsampled_images()"
   ]
  },
  {
   "cell_type": "code",
   "execution_count": null,
   "id": "ebc1e218-f887-4936-9303-5a1896e41279",
   "metadata": {},
   "outputs": [],
   "source": []
  }
 ],
 "metadata": {
  "kernelspec": {
   "display_name": "Python 3",
   "language": "python",
   "name": "python3"
  },
  "language_info": {
   "codemirror_mode": {
    "name": "ipython",
    "version": 3
   },
   "file_extension": ".py",
   "mimetype": "text/x-python",
   "name": "python",
   "nbconvert_exporter": "python",
   "pygments_lexer": "ipython3",
   "version": "3.6.8"
  }
 },
 "nbformat": 4,
 "nbformat_minor": 5
}
