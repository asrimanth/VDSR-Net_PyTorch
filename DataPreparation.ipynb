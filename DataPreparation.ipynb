{
 "cells": [
  {
   "cell_type": "code",
   "execution_count": 46,
   "id": "e2182ca6-cc26-4f2c-a1cf-866c1d2f893c",
   "metadata": {},
   "outputs": [],
   "source": [
    "# Uncomment and run the below commands (Unix-based systems only) to download and unzip the dataset.\n",
    "# !wget -O Flickr2K.tar \"https://cv.snu.ac.kr/research/EDSR/Flickr2K.tar\"\n",
    "# !tar -xvf Flickr2K.tar\n",
    "\n",
    "# DIV2K Dataset link: https://drive.google.com/drive/folders/1B-uaxvV9qeuQ-t7MFiN1oEdA6dKnj2vW\n",
    "# !unzip \"DIV2K_train_HR.zip\"\n",
    "# !unzip \"DIV2K_valid_HR.zip\""
   ]
  },
  {
   "cell_type": "code",
   "execution_count": 47,
   "id": "9eee9b86-7310-42d4-89a7-22d56abc7673",
   "metadata": {},
   "outputs": [],
   "source": [
    "import numpy as np\n",
    "import pandas as pd\n",
    "from PIL import Image\n",
    "import matplotlib.pyplot as plt\n",
    "from tqdm import tqdm\n",
    "import os"
   ]
  },
  {
   "cell_type": "code",
   "execution_count": 48,
   "id": "ec38e54e-ae9e-43a1-9917-c43c98e1b1cc",
   "metadata": {},
   "outputs": [],
   "source": [
    "def create_dataset_from_HR_images(src_path=\"./DIV2K/DIV2K_train_HR/\", \n",
    "                                  dest_path=\"./DIV2K/DIV2K_train_LR/\", out_filename=\"DIV2K_train.csv\"):\n",
    "    \n",
    "    file_list= [src_path + file for file in os.listdir(src_path) if file.endswith('.png')]\n",
    "    col_names = [\"LR_filename\", \"LR_filepath\", \"LR_dimensions\",\n",
    "                 \"HR_filename\", \"HR_filepath\", \"HR_dimensions\", \n",
    "                 \"downsample_method\"]\n",
    "    data = {col:[] for col in col_names}\n",
    "    N = len(file_list)\n",
    "    for i, image_path in enumerate(tqdm(file_list)):\n",
    "        image = Image.open(image_path)\n",
    "        image_name = image_path.split(\"/\")[-1]\n",
    "        width, height = image.size\n",
    "        \n",
    "        # https://pillow.readthedocs.io/en/stable/handbook/concepts.html#concept-filters\n",
    "        resize_method = Image.NEAREST\n",
    "        resize_method_str = \"NEAREST\"\n",
    "        if i in range((5*N//6), N):\n",
    "            resize_method = Image.BOX\n",
    "            resize_method_str = \"BOX\"\n",
    "        if i in range((4*N//6), (5*N//6)):\n",
    "            resize_method = Image.BILINEAR\n",
    "            resize_method_str = \"BILINEAR\"\n",
    "        if i in range((3*N//6), (4*N//6)):\n",
    "            resize_method = Image.HAMMING\n",
    "            resize_method_str = \"HAMMING\"\n",
    "        if i in range((2*N//6), (3*N//6)):\n",
    "            resize_method = Image.BICUBIC\n",
    "            resize_method_str = \"BICUBIC\"\n",
    "        if i in range((N//6), (2*N//6)):\n",
    "            resize_method = Image.LANCZOS\n",
    "            resize_method_str = \"LANCZOS\"\n",
    "        \n",
    "        resized_image = image.resize((width//2, height//2), resample=resize_method)\n",
    "        \n",
    "        resized_image.save(dest_path + \"train_\" + image_name)\n",
    "        data[\"LR_filename\"].append(\"train_\" + image_name)\n",
    "        data[\"LR_filepath\"].append(dest_path + \"train_\" + image_name)\n",
    "        data[\"LR_dimensions\"].append(f\"{width//2}x{height//2}\")\n",
    "        data[\"HR_filename\"].append(image_name)\n",
    "        data[\"HR_filepath\"].append(src_path + image_name)\n",
    "        data[\"HR_dimensions\"].append(f\"{width}x{height}\")\n",
    "        data[\"downsample_method\"].append(resize_method_str)\n",
    "\n",
    "    data = pd.DataFrame(data)\n",
    "    data.to_csv(out_filename)\n",
    "    "
   ]
  },
  {
   "cell_type": "code",
   "execution_count": 42,
   "id": "44b336dc-bca0-470b-b4ab-116c7a0c38db",
   "metadata": {},
   "outputs": [
    {
     "name": "stderr",
     "output_type": "stream",
     "text": [
      "100%|██████████| 800/800 [08:03<00:00,  1.66it/s]\n"
     ]
    }
   ],
   "source": [
    "create_dataset_from_HR_images(src_path=\"./DIV2K/DIV2K_train_HR/\", \n",
    "                              dest_path=\"./DIV2K/DIV2K_train_LR/\", \n",
    "                              out_filename=\"DIV2K_train.csv\")"
   ]
  },
  {
   "cell_type": "code",
   "execution_count": 45,
   "id": "64ce8f5a-0922-4c69-9ee6-78d90f2f9516",
   "metadata": {},
   "outputs": [
    {
     "name": "stderr",
     "output_type": "stream",
     "text": [
      "100%|██████████| 100/100 [00:58<00:00,  1.70it/s]\n"
     ]
    }
   ],
   "source": [
    "create_dataset_from_HR_images(src_path=\"./DIV2K/DIV2K_valid_HR/\", \n",
    "                              dest_path=\"./DIV2K/DIV2K_valid_LR/\", \n",
    "                              out_filename=\"DIV2K_valid.csv\")"
   ]
  },
  {
   "cell_type": "code",
   "execution_count": null,
   "id": "e09de33c-aefc-4d85-8ba2-5eefa0f21eff",
   "metadata": {},
   "outputs": [],
   "source": []
  }
 ],
 "metadata": {
  "kernelspec": {
   "display_name": "Python 3",
   "language": "python",
   "name": "python3"
  },
  "language_info": {
   "codemirror_mode": {
    "name": "ipython",
    "version": 3
   },
   "file_extension": ".py",
   "mimetype": "text/x-python",
   "name": "python",
   "nbconvert_exporter": "python",
   "pygments_lexer": "ipython3",
   "version": "3.6.8"
  }
 },
 "nbformat": 4,
 "nbformat_minor": 5
}
