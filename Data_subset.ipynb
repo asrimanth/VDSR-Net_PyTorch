{
 "cells": [
  {
   "cell_type": "code",
   "execution_count": 2,
   "id": "2cb8ad29-b0c9-41ca-adf6-2f97067cdabd",
   "metadata": {},
   "outputs": [],
   "source": [
    "import pandas as pd"
   ]
  },
  {
   "cell_type": "code",
   "execution_count": 3,
   "id": "3b9cc7a9-6b17-434c-aab0-7c9abe7fc083",
   "metadata": {},
   "outputs": [
    {
     "data": {
      "text/html": [
       "<div>\n",
       "<style scoped>\n",
       "    .dataframe tbody tr th:only-of-type {\n",
       "        vertical-align: middle;\n",
       "    }\n",
       "\n",
       "    .dataframe tbody tr th {\n",
       "        vertical-align: top;\n",
       "    }\n",
       "\n",
       "    .dataframe thead th {\n",
       "        text-align: right;\n",
       "    }\n",
       "</style>\n",
       "<table border=\"1\" class=\"dataframe\">\n",
       "  <thead>\n",
       "    <tr style=\"text-align: right;\">\n",
       "      <th></th>\n",
       "      <th>Unnamed: 0</th>\n",
       "      <th>LR_filename</th>\n",
       "      <th>LR_filepath</th>\n",
       "      <th>LR_dimensions</th>\n",
       "      <th>HR_filename</th>\n",
       "      <th>HR_filepath</th>\n",
       "      <th>HR_dimensions</th>\n",
       "      <th>downsample_method</th>\n",
       "    </tr>\n",
       "  </thead>\n",
       "  <tbody>\n",
       "    <tr>\n",
       "      <th>0</th>\n",
       "      <td>0</td>\n",
       "      <td>train_0790.png</td>\n",
       "      <td>./DIV2K/DIV2K_train_LR/train_0790.png</td>\n",
       "      <td>1020x678</td>\n",
       "      <td>0790.png</td>\n",
       "      <td>./DIV2K/DIV2K_train_HR/0790.png</td>\n",
       "      <td>2040x1356</td>\n",
       "      <td>NEAREST</td>\n",
       "    </tr>\n",
       "    <tr>\n",
       "      <th>1</th>\n",
       "      <td>1</td>\n",
       "      <td>train_0171.png</td>\n",
       "      <td>./DIV2K/DIV2K_train_LR/train_0171.png</td>\n",
       "      <td>1020x768</td>\n",
       "      <td>0171.png</td>\n",
       "      <td>./DIV2K/DIV2K_train_HR/0171.png</td>\n",
       "      <td>2040x1536</td>\n",
       "      <td>NEAREST</td>\n",
       "    </tr>\n",
       "    <tr>\n",
       "      <th>2</th>\n",
       "      <td>2</td>\n",
       "      <td>train_0609.png</td>\n",
       "      <td>./DIV2K/DIV2K_train_LR/train_0609.png</td>\n",
       "      <td>1020x678</td>\n",
       "      <td>0609.png</td>\n",
       "      <td>./DIV2K/DIV2K_train_HR/0609.png</td>\n",
       "      <td>2040x1356</td>\n",
       "      <td>NEAREST</td>\n",
       "    </tr>\n",
       "    <tr>\n",
       "      <th>3</th>\n",
       "      <td>3</td>\n",
       "      <td>train_0643.png</td>\n",
       "      <td>./DIV2K/DIV2K_train_LR/train_0643.png</td>\n",
       "      <td>1020x768</td>\n",
       "      <td>0643.png</td>\n",
       "      <td>./DIV2K/DIV2K_train_HR/0643.png</td>\n",
       "      <td>2040x1536</td>\n",
       "      <td>NEAREST</td>\n",
       "    </tr>\n",
       "    <tr>\n",
       "      <th>4</th>\n",
       "      <td>4</td>\n",
       "      <td>train_0421.png</td>\n",
       "      <td>./DIV2K/DIV2K_train_LR/train_0421.png</td>\n",
       "      <td>762x1020</td>\n",
       "      <td>0421.png</td>\n",
       "      <td>./DIV2K/DIV2K_train_HR/0421.png</td>\n",
       "      <td>1524x2040</td>\n",
       "      <td>NEAREST</td>\n",
       "    </tr>\n",
       "  </tbody>\n",
       "</table>\n",
       "</div>"
      ],
      "text/plain": [
       "   Unnamed: 0     LR_filename                            LR_filepath  \\\n",
       "0           0  train_0790.png  ./DIV2K/DIV2K_train_LR/train_0790.png   \n",
       "1           1  train_0171.png  ./DIV2K/DIV2K_train_LR/train_0171.png   \n",
       "2           2  train_0609.png  ./DIV2K/DIV2K_train_LR/train_0609.png   \n",
       "3           3  train_0643.png  ./DIV2K/DIV2K_train_LR/train_0643.png   \n",
       "4           4  train_0421.png  ./DIV2K/DIV2K_train_LR/train_0421.png   \n",
       "\n",
       "  LR_dimensions HR_filename                      HR_filepath HR_dimensions  \\\n",
       "0      1020x678    0790.png  ./DIV2K/DIV2K_train_HR/0790.png     2040x1356   \n",
       "1      1020x768    0171.png  ./DIV2K/DIV2K_train_HR/0171.png     2040x1536   \n",
       "2      1020x678    0609.png  ./DIV2K/DIV2K_train_HR/0609.png     2040x1356   \n",
       "3      1020x768    0643.png  ./DIV2K/DIV2K_train_HR/0643.png     2040x1536   \n",
       "4      762x1020    0421.png  ./DIV2K/DIV2K_train_HR/0421.png     1524x2040   \n",
       "\n",
       "  downsample_method  \n",
       "0           NEAREST  \n",
       "1           NEAREST  \n",
       "2           NEAREST  \n",
       "3           NEAREST  \n",
       "4           NEAREST  "
      ]
     },
     "execution_count": 3,
     "metadata": {},
     "output_type": "execute_result"
    }
   ],
   "source": [
    "train = pd.read_csv(\"./DIV2K_train.csv\")\n",
    "train.head()"
   ]
  },
  {
   "cell_type": "code",
   "execution_count": 4,
   "id": "733c3a55-421d-46e4-b937-bac873eaf552",
   "metadata": {},
   "outputs": [
    {
     "data": {
      "text/plain": [
       "2040x1356    429\n",
       "1356x2040     49\n",
       "2040x1536     48\n",
       "2040x1368     28\n",
       "2040x1152     20\n",
       "            ... \n",
       "1644x2040      1\n",
       "2040x1836      1\n",
       "2040x1992      1\n",
       "1284x2040      1\n",
       "1944x2040      1\n",
       "Name: HR_dimensions, Length: 94, dtype: int64"
      ]
     },
     "execution_count": 4,
     "metadata": {},
     "output_type": "execute_result"
    }
   ],
   "source": [
    "train[\"HR_dimensions\"].value_counts()"
   ]
  },
  {
   "cell_type": "code",
   "execution_count": 5,
   "id": "9532302a-0d32-4334-bb2a-1c8887b3e844",
   "metadata": {},
   "outputs": [
    {
     "name": "stderr",
     "output_type": "stream",
     "text": [
      "/geode2/home/u090/sragas/Carbonate/Documents/python_envs/deeplearning/lib64/python3.6/site-packages/pandas/core/frame.py:4174: SettingWithCopyWarning: \n",
      "A value is trying to be set on a copy of a slice from a DataFrame\n",
      "\n",
      "See the caveats in the documentation: https://pandas.pydata.org/pandas-docs/stable/user_guide/indexing.html#returning-a-view-versus-a-copy\n",
      "  errors=errors,\n"
     ]
    }
   ],
   "source": [
    "df_train_subset = train[train[\"HR_dimensions\"] == \"2040x1356\"]\n",
    "df_train_subset.drop([\"Unnamed: 0\"], axis=1, inplace=True)\n",
    "df_train_subset.to_csv(\"DIV2K_train_subset.csv\")"
   ]
  },
  {
   "cell_type": "code",
   "execution_count": 6,
   "id": "88a0c943-6c6d-4762-8775-642163f2cf2f",
   "metadata": {},
   "outputs": [
    {
     "data": {
      "text/html": [
       "<div>\n",
       "<style scoped>\n",
       "    .dataframe tbody tr th:only-of-type {\n",
       "        vertical-align: middle;\n",
       "    }\n",
       "\n",
       "    .dataframe tbody tr th {\n",
       "        vertical-align: top;\n",
       "    }\n",
       "\n",
       "    .dataframe thead th {\n",
       "        text-align: right;\n",
       "    }\n",
       "</style>\n",
       "<table border=\"1\" class=\"dataframe\">\n",
       "  <thead>\n",
       "    <tr style=\"text-align: right;\">\n",
       "      <th></th>\n",
       "      <th>Unnamed: 0</th>\n",
       "      <th>LR_filename</th>\n",
       "      <th>LR_filepath</th>\n",
       "      <th>LR_dimensions</th>\n",
       "      <th>HR_filename</th>\n",
       "      <th>HR_filepath</th>\n",
       "      <th>HR_dimensions</th>\n",
       "      <th>downsample_method</th>\n",
       "    </tr>\n",
       "  </thead>\n",
       "  <tbody>\n",
       "    <tr>\n",
       "      <th>0</th>\n",
       "      <td>0</td>\n",
       "      <td>train_0868.png</td>\n",
       "      <td>./DIV2K/DIV2K_valid_LR/train_0868.png</td>\n",
       "      <td>1020x678</td>\n",
       "      <td>0868.png</td>\n",
       "      <td>./DIV2K/DIV2K_valid_HR/0868.png</td>\n",
       "      <td>2040x1356</td>\n",
       "      <td>NEAREST</td>\n",
       "    </tr>\n",
       "    <tr>\n",
       "      <th>1</th>\n",
       "      <td>1</td>\n",
       "      <td>train_0890.png</td>\n",
       "      <td>./DIV2K/DIV2K_valid_LR/train_0890.png</td>\n",
       "      <td>1020x684</td>\n",
       "      <td>0890.png</td>\n",
       "      <td>./DIV2K/DIV2K_valid_HR/0890.png</td>\n",
       "      <td>2040x1368</td>\n",
       "      <td>NEAREST</td>\n",
       "    </tr>\n",
       "    <tr>\n",
       "      <th>2</th>\n",
       "      <td>2</td>\n",
       "      <td>train_0860.png</td>\n",
       "      <td>./DIV2K/DIV2K_valid_LR/train_0860.png</td>\n",
       "      <td>1020x768</td>\n",
       "      <td>0860.png</td>\n",
       "      <td>./DIV2K/DIV2K_valid_HR/0860.png</td>\n",
       "      <td>2040x1536</td>\n",
       "      <td>NEAREST</td>\n",
       "    </tr>\n",
       "    <tr>\n",
       "      <th>3</th>\n",
       "      <td>3</td>\n",
       "      <td>train_0847.png</td>\n",
       "      <td>./DIV2K/DIV2K_valid_LR/train_0847.png</td>\n",
       "      <td>678x1020</td>\n",
       "      <td>0847.png</td>\n",
       "      <td>./DIV2K/DIV2K_valid_HR/0847.png</td>\n",
       "      <td>1356x2040</td>\n",
       "      <td>NEAREST</td>\n",
       "    </tr>\n",
       "    <tr>\n",
       "      <th>4</th>\n",
       "      <td>4</td>\n",
       "      <td>train_0843.png</td>\n",
       "      <td>./DIV2K/DIV2K_valid_LR/train_0843.png</td>\n",
       "      <td>1020x678</td>\n",
       "      <td>0843.png</td>\n",
       "      <td>./DIV2K/DIV2K_valid_HR/0843.png</td>\n",
       "      <td>2040x1356</td>\n",
       "      <td>NEAREST</td>\n",
       "    </tr>\n",
       "  </tbody>\n",
       "</table>\n",
       "</div>"
      ],
      "text/plain": [
       "   Unnamed: 0     LR_filename                            LR_filepath  \\\n",
       "0           0  train_0868.png  ./DIV2K/DIV2K_valid_LR/train_0868.png   \n",
       "1           1  train_0890.png  ./DIV2K/DIV2K_valid_LR/train_0890.png   \n",
       "2           2  train_0860.png  ./DIV2K/DIV2K_valid_LR/train_0860.png   \n",
       "3           3  train_0847.png  ./DIV2K/DIV2K_valid_LR/train_0847.png   \n",
       "4           4  train_0843.png  ./DIV2K/DIV2K_valid_LR/train_0843.png   \n",
       "\n",
       "  LR_dimensions HR_filename                      HR_filepath HR_dimensions  \\\n",
       "0      1020x678    0868.png  ./DIV2K/DIV2K_valid_HR/0868.png     2040x1356   \n",
       "1      1020x684    0890.png  ./DIV2K/DIV2K_valid_HR/0890.png     2040x1368   \n",
       "2      1020x768    0860.png  ./DIV2K/DIV2K_valid_HR/0860.png     2040x1536   \n",
       "3      678x1020    0847.png  ./DIV2K/DIV2K_valid_HR/0847.png     1356x2040   \n",
       "4      1020x678    0843.png  ./DIV2K/DIV2K_valid_HR/0843.png     2040x1356   \n",
       "\n",
       "  downsample_method  \n",
       "0           NEAREST  \n",
       "1           NEAREST  \n",
       "2           NEAREST  \n",
       "3           NEAREST  \n",
       "4           NEAREST  "
      ]
     },
     "execution_count": 6,
     "metadata": {},
     "output_type": "execute_result"
    }
   ],
   "source": [
    "valid = pd.read_csv(\"./DIV2K_valid.csv\")\n",
    "valid.head()"
   ]
  },
  {
   "cell_type": "code",
   "execution_count": 8,
   "id": "1662fd87-2a91-49c3-859f-4c54f202c710",
   "metadata": {},
   "outputs": [
    {
     "name": "stderr",
     "output_type": "stream",
     "text": [
      "/geode2/home/u090/sragas/Carbonate/Documents/python_envs/deeplearning/lib64/python3.6/site-packages/pandas/core/frame.py:4174: SettingWithCopyWarning: \n",
      "A value is trying to be set on a copy of a slice from a DataFrame\n",
      "\n",
      "See the caveats in the documentation: https://pandas.pydata.org/pandas-docs/stable/user_guide/indexing.html#returning-a-view-versus-a-copy\n",
      "  errors=errors,\n"
     ]
    }
   ],
   "source": [
    "valid[\"HR_dimensions\"].value_counts()\n",
    "df_valid_subset = valid[valid[\"HR_dimensions\"] == \"2040x1356\"]\n",
    "df_valid_subset.drop([\"Unnamed: 0\"], axis=1, inplace=True)\n",
    "df_valid_subset.to_csv(\"DIV2K_valid_subset.csv\")"
   ]
  },
  {
   "cell_type": "code",
   "execution_count": null,
   "id": "ab1c94c6-6835-4c86-95ff-5aecd38cad4f",
   "metadata": {},
   "outputs": [],
   "source": []
  }
 ],
 "metadata": {
  "kernelspec": {
   "display_name": "Python 3",
   "language": "python",
   "name": "python3"
  },
  "language_info": {
   "codemirror_mode": {
    "name": "ipython",
    "version": 3
   },
   "file_extension": ".py",
   "mimetype": "text/x-python",
   "name": "python",
   "nbconvert_exporter": "python",
   "pygments_lexer": "ipython3",
   "version": "3.6.8"
  }
 },
 "nbformat": 4,
 "nbformat_minor": 5
}
